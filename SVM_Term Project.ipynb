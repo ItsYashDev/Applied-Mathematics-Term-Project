{
 "cells": [
  {
   "cell_type": "markdown",
   "id": "b849039e",
   "metadata": {},
   "source": [
    "# Breast Cancer Classification with SVM"
   ]
  },
  {
   "cell_type": "markdown",
   "id": "5f7bad5a",
   "metadata": {},
   "source": [
    " This report performs binary classification on the Breast Cancer Wisconsin dataset using the Support Vector Machine (SVM) classifier. We evaluate the model with metrics including accuracy, classification report, ROC-AUC, and feature importance."
   ]
  },
  {
   "cell_type": "code",
   "execution_count": 31,
   "id": "41daceb3",
   "metadata": {},
   "outputs": [],
   "source": [
    "import pandas as pd\n",
    "import numpy as np\n",
    "import matplotlib.pyplot as plt\n",
    "import seaborn as sns\n",
    "from sklearn.svm import SVC\n",
    "from sklearn.model_selection import train_test_split, GridSearchCV\n",
    "from sklearn.preprocessing import MinMaxScaler\n",
    "from sklearn.metrics import classification_report, accuracy_score, confusion_matrix, roc_curve, auc, ConfusionMatrixDisplay\n",
    "%matplotlib inline"
   ]
  },
  {
   "cell_type": "markdown",
   "id": "30a0c532",
   "metadata": {},
   "source": [
    "## Dataset Loading and Overview"
   ]
  },
  {
   "cell_type": "markdown",
   "id": "5497589d",
   "metadata": {},
   "source": [
    "The dataset was loaded and preprocessed for the binary classification. The diagnosis label was mapped from categorical values (‘M’, ‘B’) to numerical values (1, 0) for binary classification."
   ]
  },
  {
   "cell_type": "code",
   "execution_count": 32,
   "id": "0605e0cf",
   "metadata": {},
   "outputs": [],
   "source": [
    "df = pd.read_csv('Dataset_Breast Cancer.csv')\n",
    "df.drop('id', axis=1, inplace=True)\n",
    "df['diagnosis'] = df['diagnosis'].map({'M':1, 'B':0})"
   ]
  },
  {
   "cell_type": "markdown",
   "id": "da73cb73",
   "metadata": {},
   "source": [
    "## Preprocessing and Splitting"
   ]
  },
  {
   "cell_type": "markdown",
   "id": "13b20a24",
   "metadata": {},
   "source": [
    "All features were normalized using MinMaxScaler to scale values to the range [0, 1], which is critical for SVM as it relies on distance-based calculations.\n",
    "The dataset was split into training (80%) and testing (20%) sets with stratification to maintain class balance."
   ]
  },
  {
   "cell_type": "code",
   "execution_count": 33,
   "id": "4e3ee237",
   "metadata": {},
   "outputs": [],
   "source": [
    "X = df.drop('diagnosis', axis=1)\n",
    "y = df['diagnosis']\n",
    "scaler = MinMaxScaler()\n",
    "X_scaled = scaler.fit_transform(X)\n",
    "X_train, X_test, y_train, y_test = train_test_split(X_scaled, y, test_size=0.2, stratify=y, random_state=42)"
   ]
  },
  {
   "cell_type": "markdown",
   "id": "1ce362e7",
   "metadata": {},
   "source": [
    "## Model Training with GridSearchCV"
   ]
  },
  {
   "cell_type": "markdown",
   "id": "40278557",
   "metadata": {},
   "source": [
    "We use 5-fold cross-validation to find the best hyperparameters for the SVM classifier."
   ]
  },
  {
   "cell_type": "code",
   "execution_count": 34,
   "id": "ba63a27f",
   "metadata": {},
   "outputs": [
    {
     "name": "stdout",
     "output_type": "stream",
     "text": [
      "Best Parameteres: {'C': 1, 'degree': 3, 'gamma': 1, 'kernel': 'poly'}\n"
     ]
    }
   ],
   "source": [
    "param_grid ={\n",
    "    'C': [0.1, 1, 10, 100],\n",
    "    'kernel': ['linear', 'rbf', 'poly'],\n",
    "    'gamma': ['scale', 'auto', 0.1, 1],\n",
    "    'degree': [2, 3]\n",
    "}\n",
    "grid= GridSearchCV(\n",
    "    SVC(probability=True, random_state=42),\n",
    "    param_grid,\n",
    "    cv=5,\n",
    "    scoring='accuracy',\n",
    "    n_jobs=-1\n",
    ")\n",
    "grid.fit(X_train, y_train)\n",
    "best_model = grid.best_estimator_\n",
    "print(\"Best Parameteres:\", grid.best_params_)"
   ]
  },
  {
   "cell_type": "markdown",
   "id": "b65b6557",
   "metadata": {},
   "source": [
    " A wide range of hyperparameters was tested using GridSearchCV on model performance.\n",
    " \n",
    "### Parameters evaluated:\n",
    "* **C:** [0.1, 1, 10, 100] \n",
    "* **kernel:** [‘linear’, ‘rbf’, ‘poly’] \n",
    "* **gamma:** [‘scale’, ‘auto’, 0.1, 1]\n",
    "* **degree:** [2, 3]"
   ]
  },
  {
   "cell_type": "markdown",
   "id": "2299ecdc",
   "metadata": {},
   "source": [
    "The wider grid allowed observation of how the model behaves under different complexity levels."
   ]
  },
  {
   "cell_type": "markdown",
   "id": "6c2cf500",
   "metadata": {},
   "source": [
    "### Model Evaluation"
   ]
  },
  {
   "cell_type": "markdown",
   "id": "50056995",
   "metadata": {},
   "source": [
    " We calculate the accuracy and show the classification report."
   ]
  },
  {
   "cell_type": "code",
   "execution_count": 35,
   "id": "6d55403b",
   "metadata": {},
   "outputs": [
    {
     "name": "stdout",
     "output_type": "stream",
     "text": [
      "Accuracy: 0.956140350877193\n",
      "Classification Report:\n",
      "               precision    recall  f1-score   support\n",
      "\n",
      "           0       0.94      1.00      0.97        72\n",
      "           1       1.00      0.88      0.94        42\n",
      "\n",
      "    accuracy                           0.96       114\n",
      "   macro avg       0.97      0.94      0.95       114\n",
      "weighted avg       0.96      0.96      0.96       114\n",
      "\n"
     ]
    }
   ],
   "source": [
    "y_pred = best_model.predict(X_test)\n",
    "print('Accuracy:', accuracy_score(y_test, y_pred))\n",
    "print('Classification Report:\\n', classification_report(y_test, y_pred))"
   ]
  },
  {
   "cell_type": "markdown",
   "id": "ec7690b2",
   "metadata": {},
   "source": [
    "### Classification Report Analysis:\n",
    "\n",
    "The classification report provides a detailed view of the model's predictive performance on each class.\n",
    "\n",
    "* **Precision:** Proportion of positive predictions that were correct (i.e. malignant cases correctly identified).\n",
    "\n",
    "* **Recall(Sensitivity):** Proportion of actual positives correctly identified, critical for minimizing false negatives in cancer detection.\n",
    "\n",
    "* **F1-score:** Harmonic mean of precision and recall, indicating balanced performance."
   ]
  },
  {
   "cell_type": "markdown",
   "id": "b02b6683",
   "metadata": {},
   "source": [
    "High precision and recall (>0.90) indicate robust performance. If recall for malignant cases is lower, the clinical implication (missed malignant cases could delay treatment)."
   ]
  },
  {
   "cell_type": "markdown",
   "id": "9d00fef0",
   "metadata": {},
   "source": [
    "## Confusion Matrix"
   ]
  },
  {
   "cell_type": "markdown",
   "id": "17499eb9",
   "metadata": {},
   "source": [
    "Visualizing the confusion matrix helps to understand how many cases were correctly or incorrectly classified."
   ]
  },
  {
   "cell_type": "code",
   "execution_count": 36,
   "id": "c9ffdd96",
   "metadata": {},
   "outputs": [
    {
     "data": {
      "image/png": "[encoded data removed]",
      "text/plain": [
       "<Figure size 640x480 with 2 Axes>"
      ]
     },
     "metadata": {},
     "output_type": "display_data"
    }
   ],
   "source": [
    "cm = confusion_matrix(y_test, y_pred)\n",
    "labels = [0, 1] #0: Benign, 1: Malignant\n",
    "disp = ConfusionMatrixDisplay(confusion_matrix=cm, display_labels=[\"Benign\", \"Malignant\"])\n",
    "disp.plot(cmap=\"Blues\")\n",
    "plt.title(\"Confusion Matrix for SVM\")\n",
    "plt.grid(False)\n",
    "plt.show()"
   ]
  },
  {
   "cell_type": "markdown",
   "id": "53235aea",
   "metadata": {},
   "source": [
    "### Confusion Matrix Analysis\n",
    "\n",
    "The confusion matrix is a 2x2 table where:\n",
    "\n",
    " * The **diagonal values** represent correct predictions.\n",
    " * The **off-diagonal values** indicate misclassifications.\n",
    " \n",
    " * **True Negatives (TN):** Benign cases correctly predicted as benign.\n",
    " * **True Positives (TP):** Malignant cases correctly predicted as malignant.\n",
    " * **False Positives (FP):** Benign cases misclassified as malignant.\n",
    " * **False Negatives (FN):** Malignant cases misclassified as benign."
   ]
  },
  {
   "cell_type": "markdown",
   "id": "d0c5ae08",
   "metadata": {},
   "source": [
    "The confusion matrix summarizes the classifier's performance on the test set, with true class labels on the vertical axis and predicted labels on the horizontal axis."
   ]
  },
  {
   "cell_type": "markdown",
   "id": "77c47cc2",
   "metadata": {},
   "source": [
    "### Observations:\n",
    "\n",
    " * **True Negatives (TN):** = 72 -> Benign cases correctly predicted as benign.\n",
    " * **True Positives (TP):** = 37 -> Malignant cases correctly predicted as malignant.\n",
    " * **False Positives (FP):** = 5 -> Benign cases misclassified as malignant.\n",
    " * **False Negatives (FN):** = 0 -> Malignant cases misclassified as benign."
   ]
  },
  {
   "cell_type": "markdown",
   "id": "dfb24c64",
   "metadata": {},
   "source": [
    "### Interpretation:\n",
    "\n",
    "* The model achieves perfect precision for malignant predictions (i.e., no false alarms).\n",
    "* However, it missed 5 malignant cases, indicating a false negative rate of ~9%.\n",
    "* This means the model failed to detect ~9% of actual cancers, which in a medical context, is a critical consideration."
   ]
  },
  {
   "cell_type": "markdown",
   "id": "de259247",
   "metadata": {},
   "source": [
    "In a medical context, **false negatives** are particularly critical because missing a malignant case can delay treatment. The confusion matrix here shows low FN and FP rates, affirming\n",
    " the model's suitability for early detection and diagnosis support."
   ]
  },
  {
   "cell_type": "markdown",
   "id": "97b29d36",
   "metadata": {},
   "source": [
    "### Metric Summary:\n",
    "\n",
    "* **Sensitivity (Recall)** = 37 / (37 + 5) = 0.8809\n",
    "* **Specificity** = 72 / (72 + 0) = 1.0\n",
    "* **Precision** = 37 / (37 + 0) = 1.0\n"
   ]
  },
  {
   "cell_type": "markdown",
   "id": "02feda99",
   "metadata": {},
   "source": [
    " This matrix shows a high-performing model with some potential for improving sensitivity."
   ]
  },
  {
   "cell_type": "markdown",
   "id": "4b7e9a64",
   "metadata": {},
   "source": [
    "## ROC Curve and AUC Score"
   ]
  },
  {
   "cell_type": "markdown",
   "id": "89777ffd",
   "metadata": {},
   "source": [
    " The ROC curve evaluates classifier performance across all thresholds. AUC summarizes this performance as a single value."
   ]
  },
  {
   "cell_type": "code",
   "execution_count": 37,
   "id": "35516469",
   "metadata": {},
   "outputs": [
    {
     "data": {
      "image/png": "[encoded data removed]",
      "text/plain": [
       "<Figure size 640x480 with 1 Axes>"
      ]
     },
     "metadata": {},
     "output_type": "display_data"
    }
   ],
   "source": [
    "y_prob = best_model.predict_proba(X_test)[:, 1]\n",
    "fpr, tpr, _ = roc_curve(y_test, y_prob)\n",
    "roc_auc = auc(fpr, tpr)\n",
    "plt.figure()\n",
    "plt.plot(fpr, tpr, label=f'ROC Curve (AUC= {roc_auc:.2f})')\n",
    "plt.plot([0,1], [0,1], linestyle='--')\n",
    "plt.xlabel('False Positive Rate')\n",
    "plt.ylabel('True Positive Rate')\n",
    "plt.title('ROC Curve for SVM')\n",
    "plt.legend()\n",
    "plt.grid(True)\n",
    "plt.show()"
   ]
  },
  {
   "cell_type": "markdown",
   "id": "4b139dd2",
   "metadata": {},
   "source": [
    "The ROC curve plots the True Positive Rate (Sensitivity) against the False Positive Rate (1 Specificity) at different threshold settings.\n",
    "\n",
    "The closer the ROC curve is to the top-left corner, the better the classifier performs. A diagonal line from (0, 0) to (1, 1) represents random guessing.\n",
    " \n",
    "The **Area Under the Curve (AUC)** is a scalar measure summarizing the ROC curve. AUC = 1.0 is perfect classification; AUC = 0.5 is random guessing.\n",
    "\n",
    "In this analysis, the ROC curve arcs significantly toward the top-left, and the AUC value (0.97) indicates the model is highly effective at separating benign and malignant cases under varying classification thresholds."
   ]
  }
 ],
 "metadata": {
  "kernelspec": {
   "display_name": "base",
   "language": "python",
   "name": "python3"
  },
  "language_info": {
   "codemirror_mode": {
    "name": "ipython",
    "version": 3
   },
   "file_extension": ".py",
   "mimetype": "text/x-python",
   "name": "python",
   "nbconvert_exporter": "python",
   "pygments_lexer": "ipython3",
   "version": "3.12.7"
  }
 },
 "nbformat": 4,
 "nbformat_minor": 5
}
